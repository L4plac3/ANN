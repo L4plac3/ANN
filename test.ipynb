{
 "cells": [
  {
   "cell_type": "code",
   "execution_count": 1,
   "metadata": {
    "tags": []
   },
   "outputs": [],
   "source": [
    "import nn\n",
    "\n",
    "net = nn.ANN([4,3,2])"
   ]
  },
  {
   "cell_type": "code",
   "execution_count": 2,
   "metadata": {
    "tags": []
   },
   "outputs": [],
   "source": [
    "import numpy as np\n",
    "x = np.array([[0.6,0.9,0.2,0.1],\n",
    "              [0.1,0.4,1.0,0.9],])\n",
    "y = np.array([1,0])\n",
    "error, dE = net.backpropagation(x,y)"
   ]
  },
  {
   "cell_type": "code",
   "execution_count": 3,
   "metadata": {
    "tags": []
   },
   "outputs": [
    {
     "output_type": "stream",
     "name": "stdout",
     "text": "Error:  0.12832206601286594\ndE:  [0, array([[-0.        , -0.        , -0.        , -0.        ],\n       [ 0.        ,  0.        ,  0.        ,  0.        ],\n       [-0.01540094, -0.02310141, -0.00462028, -0.00333687]]), array([[-0.        , -0.        , -0.01530776],\n       [-0.        , -0.        , -0.02584972]]), 0, array([[ 0.        ,  0.        ,  0.        ,  0.        ],\n       [-0.        , -0.        , -0.        , -0.        ],\n       [ 0.00600595,  0.02402379,  0.06005947,  0.05405352]]), array([[0.        , 0.        , 0.08637221],\n       [0.        , 0.        , 0.23204762]])]\n"
    }
   ],
   "source": [
    "print('Error: ', error)\n",
    "print('dE: ', dE)"
   ]
  },
  {
   "cell_type": "code",
   "execution_count": 4,
   "metadata": {},
   "outputs": [
    {
     "output_type": "execute_result",
     "data": {
      "text/plain": "(4,)"
     },
     "metadata": {},
     "execution_count": 4
    }
   ],
   "source": [
    "x = np.array([0.6,0.9,0.18,0.13])\n",
    "x.shape"
   ]
  },
  {
   "cell_type": "code",
   "execution_count": null,
   "metadata": {},
   "outputs": [],
   "source": []
  }
 ],
 "metadata": {
  "language_info": {
   "codemirror_mode": {
    "name": "ipython",
    "version": 3
   },
   "file_extension": ".py",
   "mimetype": "text/x-python",
   "name": "python",
   "nbconvert_exporter": "python",
   "pygments_lexer": "ipython3",
   "version": "3.7.6-final"
  },
  "orig_nbformat": 2,
  "kernelspec": {
   "name": "python3",
   "display_name": "Python 3"
  }
 },
 "nbformat": 4,
 "nbformat_minor": 2
}