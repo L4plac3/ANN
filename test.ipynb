{
 "cells": [
  {
   "cell_type": "code",
   "execution_count": 1,
   "metadata": {
    "tags": []
   },
   "outputs": [
    {
     "output_type": "stream",
     "name": "stdout",
     "text": "0%\n10%\n20%\n30%\n40%\n50%\n60%\n70%\n80%\n90%\n"
    }
   ],
   "source": [
    "import nn\n",
    "import numpy as np\n",
    "\n",
    "x = np.array([[90,5],\n",
    "              [120,6],\n",
    "              [240,10],\n",
    "              [60,3],\n",
    "              [75,4],\n",
    "              [85,5],\n",
    "              [200,8],\n",
    "              [180,7]])\n",
    "y = np.array([[200, 230, 500, 110, 160, 190, 410, 390]])\n",
    "\n",
    "net = nn.ANN([2,5,1])\n",
    "net.split_train_test(x, y)\n",
    "net.train(epochs=10000, learning_rate=0.1)"
   ]
  },
  {
   "cell_type": "code",
   "execution_count": 2,
   "metadata": {},
   "outputs": [
    {
     "output_type": "execute_result",
     "data": {
      "text/plain": "0.04407383711245911"
     },
     "metadata": {},
     "execution_count": 2
    }
   ],
   "source": [
    "net.test()"
   ]
  },
  {
   "cell_type": "code",
   "execution_count": null,
   "metadata": {},
   "outputs": [],
   "source": []
  }
 ],
 "metadata": {
  "language_info": {
   "codemirror_mode": {
    "name": "ipython",
    "version": 3
   },
   "file_extension": ".py",
   "mimetype": "text/x-python",
   "name": "python",
   "nbconvert_exporter": "python",
   "pygments_lexer": "ipython3",
   "version": "3.7.6-final"
  },
  "orig_nbformat": 2,
  "kernelspec": {
   "name": "python3",
   "display_name": "Python 3"
  }
 },
 "nbformat": 4,
 "nbformat_minor": 2
}